{
 "cells": [
  {
   "cell_type": "code",
   "execution_count": 2,
   "id": "introductory-shell",
   "metadata": {},
   "outputs": [],
   "source": [
    "import numpy as np\n",
    "import matplotlib.pyplot as plt"
   ]
  },
  {
   "cell_type": "markdown",
   "id": "latter-submission",
   "metadata": {},
   "source": [
    "# First, make sure I am clear about how convolution works\n",
    "\n",
    "In this case, I use extreme high resolution to minimize the effect of approximation.\n"
   ]
  },
  {
   "cell_type": "code",
   "execution_count": null,
   "id": "convertible-awareness",
   "metadata": {},
   "outputs": [],
   "source": []
  }
 ],
 "metadata": {
  "kernelspec": {
   "display_name": "Python 3",
   "language": "python",
   "name": "python3"
  },
  "language_info": {
   "codemirror_mode": {
    "name": "ipython",
    "version": 3
   },
   "file_extension": ".py",
   "mimetype": "text/x-python",
   "name": "python",
   "nbconvert_exporter": "python",
   "pygments_lexer": "ipython3",
   "version": "3.7.9"
  }
 },
 "nbformat": 4,
 "nbformat_minor": 5
}
