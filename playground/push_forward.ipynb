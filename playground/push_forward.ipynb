{
 "cells": [
  {
   "cell_type": "code",
   "execution_count": 1,
   "id": "anticipated-chart",
   "metadata": {},
   "outputs": [],
   "source": [
    "import math\n",
    "import numpy as np\n",
    "import matplotlib.pyplot as plt"
   ]
  },
  {
   "cell_type": "markdown",
   "id": "latter-approach",
   "metadata": {},
   "source": [
    "# First, make sure I am clear about how convolution works\n",
    "\n",
    "In this case, because performace is outside of my consideration, I use extreme high resolution to minimize the effect of approximation.\n",
    "\n",
    "Define a function that returns log-gaussian. It should ensure that the mean value is equal to $d$.\n"
   ]
  },
  {
   "cell_type": "code",
   "execution_count": 13,
   "id": "greek-mention",
   "metadata": {},
   "outputs": [
    {
     "data": {
      "text/plain": "[<matplotlib.lines.Line2D at 0x225414c5c08>]"
     },
     "execution_count": 13,
     "metadata": {},
     "output_type": "execute_result"
    },
    {
     "data": {
      "text/plain": "<Figure size 432x288 with 1 Axes>",
      "image/png": "[encoded data removed]"
     },
     "metadata": {
      "needs_background": "light"
     },
     "output_type": "display_data"
    }
   ],
   "source": [
    "resolution = 4096 / 44100 / 20\n",
    "\n",
    "def log_gaus(x_axis, d):\n",
    "    sigma_square = math.log(1 / (10 * 4096 / 44100) + 1) / 2  # a fixed value\n",
    "    sigma = math.sqrt(sigma_square)\n",
    "    mu = math.log(d) - sigma_square / 2\n",
    "    result = np.divide(1, x_axis, where=x_axis!=0) * sigma * math.sqrt(2 * math.pi) * np.exp(\n",
    "        - ((np.log(x_axis, where=x_axis!=0) - mu) ** 2 / (2 * sigma ** 2)))\n",
    "    result[0] = 0\n",
    "    result /= np.sum(result)\n",
    "    return result\n",
    "\n",
    "d = 4096 / 44100\n",
    "x_axis = np.arange(0, 180, resolution)\n",
    "y_axis = log_gaus(x_axis, d)\n",
    "plt.plot(x_axis, y_axis)"
   ]
  },
  {
   "cell_type": "code",
   "execution_count": 14,
   "id": "common-object",
   "metadata": {},
   "outputs": [
    {
     "data": {
      "text/plain": "0.0928797983790775"
     },
     "execution_count": 14,
     "metadata": {},
     "output_type": "execute_result"
    }
   ],
   "source": [
    "np.dot(x_axis, y_axis)"
   ]
  },
  {
   "cell_type": "code",
   "execution_count": 15,
   "id": "random-surrey",
   "metadata": {},
   "outputs": [
    {
     "data": {
      "text/plain": "0.09287981859410431"
     },
     "execution_count": 15,
     "metadata": {},
     "output_type": "execute_result"
    }
   ],
   "source": [
    "d"
   ]
  },
  {
   "cell_type": "markdown",
   "id": "specified-default",
   "metadata": {},
   "source": [
    "# Let's convolve"
   ]
  },
  {
   "cell_type": "code",
   "execution_count": 5,
   "id": "wicked-claim",
   "metadata": {},
   "outputs": [
    {
     "data": {
      "text/plain": "[<matplotlib.lines.Line2D at 0x22540fed608>]"
     },
     "execution_count": 5,
     "metadata": {},
     "output_type": "execute_result"
    },
    {
     "data": {
      "text/plain": "<Figure size 432x288 with 1 Axes>",
      "image/png": "[encoded data removed]"
     },
     "metadata": {
      "needs_background": "light"
     },
     "output_type": "display_data"
    }
   ],
   "source": [
    "conv_y_axis = np.convolve(y_axis, y_axis)[:len(x_axis)]\n",
    "plt.plot(x_axis, y_axis)"
   ]
  },
  {
   "cell_type": "markdown",
   "id": "checked-journey",
   "metadata": {},
   "source": [
    "Check mode"
   ]
  },
  {
   "cell_type": "code",
   "execution_count": 6,
   "id": "genuine-iceland",
   "metadata": {},
   "outputs": [
    {
     "data": {
      "text/plain": "0.11145578231292516"
     },
     "execution_count": 6,
     "metadata": {},
     "output_type": "execute_result"
    }
   ],
   "source": [
    "2 * x_axis[np.argmax(y_axis)]"
   ]
  },
  {
   "cell_type": "code",
   "execution_count": 7,
   "id": "front-locking",
   "metadata": {},
   "outputs": [
    {
     "data": {
      "text/plain": "0.13931972789115646"
     },
     "execution_count": 7,
     "metadata": {},
     "output_type": "execute_result"
    }
   ],
   "source": [
    "x_axis[np.argmax(conv_y_axis)]"
   ]
  },
  {
   "cell_type": "markdown",
   "id": "copyrighted-comparative",
   "metadata": {},
   "source": [
    "Check mean"
   ]
  },
  {
   "cell_type": "code",
   "execution_count": 8,
   "id": "guided-stroke",
   "metadata": {},
   "outputs": [
    {
     "data": {
      "text/plain": "0.1857595967581457"
     },
     "execution_count": 8,
     "metadata": {},
     "output_type": "execute_result"
    }
   ],
   "source": [
    "2 * (np.dot(x_axis, y_axis))"
   ]
  },
  {
   "cell_type": "code",
   "execution_count": 9,
   "id": "expanded-accountability",
   "metadata": {},
   "outputs": [
    {
     "data": {
      "text/plain": "0.18575959675814452"
     },
     "execution_count": 9,
     "metadata": {},
     "output_type": "execute_result"
    }
   ],
   "source": [
    "np.dot(x_axis, conv_y_axis)"
   ]
  },
  {
   "cell_type": "markdown",
   "id": "varying-focus",
   "metadata": {},
   "source": [
    "Check mode+mean"
   ]
  },
  {
   "cell_type": "code",
   "execution_count": 10,
   "id": "passing-curve",
   "metadata": {},
   "outputs": [
    {
     "data": {
      "text/plain": "0.14860768953553544"
     },
     "execution_count": 10,
     "metadata": {},
     "output_type": "execute_result"
    }
   ],
   "source": [
    "x_axis[np.argmax(y_axis)] + np.dot(x_axis, y_axis)"
   ]
  },
  {
   "cell_type": "code",
   "execution_count": 11,
   "id": "bigger-guide",
   "metadata": {},
   "outputs": [
    {
     "data": {
      "text/plain": "0.13931972789115646"
     },
     "execution_count": 11,
     "metadata": {},
     "output_type": "execute_result"
    }
   ],
   "source": [
    "x_axis[np.argmax(conv_y_axis)]"
   ]
  },
  {
   "cell_type": "code",
   "execution_count": 11,
   "id": "confused-qualification",
   "metadata": {},
   "outputs": [],
   "source": []
  },
  {
   "cell_type": "code",
   "execution_count": 11,
   "id": "charming-controversy",
   "metadata": {},
   "outputs": [],
   "source": []
  }
 ],
 "metadata": {
  "kernelspec": {
   "display_name": "Python 3",
   "language": "python",
   "name": "python3"
  },
  "language_info": {
   "codemirror_mode": {
    "name": "ipython",
    "version": 3
   },
   "file_extension": ".py",
   "mimetype": "text/x-python",
   "name": "python",
   "nbconvert_exporter": "python",
   "pygments_lexer": "ipython3",
   "version": "3.7.9"
  }
 },
 "nbformat": 4,
 "nbformat_minor": 5
}